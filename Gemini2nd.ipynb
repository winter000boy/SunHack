{
 "cells": [
  {
   "cell_type": "code",
   "execution_count": 13,
   "metadata": {},
   "outputs": [],
   "source": [
    "import pandas as pd\n",
    "import matplotlib.pyplot as plt\n",
    "import seaborn as sns\n",
    "from pydrive.auth import GoogleAuth\n",
    "from pydrive.drive import GoogleDrive\n",
    "import os"
   ]
  },
  {
   "cell_type": "code",
   "execution_count": 20,
   "metadata": {},
   "outputs": [],
   "source": [
    "# Function to read and combine data from CSV files\n",
    "def read_combine_data(directory):\n",
    "    all_data = []\n",
    "    for filename in os.listdir(directory):\n",
    "        if filename.endswith(\".csv\"):\n",
    "            filepath = os.path.join(directory, filename)\n",
    "            df = pd.read_csv(filepath)\n",
    "            all_data.append(df)\n",
    "    combined_data = pd.concat(all_data)\n",
    "    return combined_data"
   ]
  },
  {
   "cell_type": "code",
   "execution_count": 21,
   "metadata": {},
   "outputs": [],
   "source": [
    "# Function to prepare data\n",
    "def prepare_data(combined_data):\n",
    "    X = combined_data[['humidity1', 'humidity2', 'humidity3', 'humidity4', 'humidity5', 'humidity6', 'humidity7', 'humidity8']]\n",
    "    y = combined_data['temperature8']\n",
    "    return X, y"
   ]
  },
  {
   "cell_type": "code",
   "execution_count": 22,
   "metadata": {},
   "outputs": [],
   "source": [
    "# Function to upload files to Google Drive\n",
    "def upload_to_drive(file_path):\n",
    "    gauth = GoogleAuth()\n",
    "    gauth.LocalWebserverAuth() # Creates local webserver and auto handles authentication.\n",
    "\n",
    "    drive = GoogleDrive(gauth)\n",
    "\n",
    "    # Upload file\n",
    "    file_name = os.path.basename(file_path)\n",
    "    file_drive = drive.CreateFile({'title': file_name})\n",
    "    file_drive.SetContentFile(file_path)\n",
    "    file_drive.Upload()\n",
    "\n",
    "    # Get file ID\n",
    "    file_id = file_drive.get('id')\n",
    "    return file_id\n"
   ]
  },
  {
   "cell_type": "code",
   "execution_count": 23,
   "metadata": {},
   "outputs": [],
   "source": [
    "# Function to visualize data\n",
    "def visualize_data(combined_data):\n",
    "    # Plot temperature over time\n",
    "    plt.figure(figsize=(12, 6))\n",
    "    sns.lineplot(x='ts', y='temperature8', data=combined_data)\n",
    "    plt.title('Temperature over Time')\n",
    "    plt.xlabel('Timestamp')\n",
    "    plt.ylabel('Temperature (°C)')\n",
    "    plt.xticks(rotation=45)\n",
    "    plt.show()\n",
    "\n",
    "    # Plot humidity over time\n",
    "    plt.figure(figsize=(12, 6))\n",
    "    sns.lineplot(x='ts', y='humidity1', data=combined_data, label='Humidity 1')\n",
    "    sns.lineplot(x='ts', y='humidity2', data=combined_data, label='Humidity 2')\n",
    "    sns.lineplot(x='ts', y='humidity3', data=combined_data, label='Humidity 3')\n",
    "    sns.lineplot(x='ts', y='humidity4', data=combined_data, label='Humidity 4')\n",
    "    sns.lineplot(x='ts', y='humidity5', data=combined_data, label='Humidity 5')\n",
    "    sns.lineplot(x='ts', y='humidity6', data=combined_data, label='Humidity 6')\n",
    "    sns.lineplot(x='ts', y='humidity7', data=combined_data, label='Humidity 7')\n",
    "    sns.lineplot(x='ts', y='humidity8', data=combined_data, label='Humidity 8')\n",
    "    plt.title('Humidity over Time')\n",
    "    plt.xlabel('Timestamp')\n",
    "    plt.ylabel('Humidity (%)')\n",
    "    plt.xticks(rotation=45)\n",
    "    plt.legend()\n",
    "    plt.show()"
   ]
  },
  {
   "cell_type": "code",
   "execution_count": 31,
   "metadata": {},
   "outputs": [
    {
     "name": "stdout",
     "output_type": "stream",
     "text": [
      "An error occurred: Invalid client secrets file ('Error opening file', 'client_secrets.json', 'No such file or directory', 2)\n"
     ]
    }
   ],
   "source": [
    "# Main code\n",
    "if __name__ == \"__main__\":\n",
    "    try:\n",
    "        # Step 1: Read and Combine Data\n",
    "        data_directory = '/home/kira/Desktop/SunHack/Training Dataset/Data/'\n",
    "        combined_data = read_combine_data(data_directory)\n",
    "\n",
    "        # Step 2: Prepare Data\n",
    "        X, y = prepare_data(combined_data)\n",
    "\n",
    "        # Step 3: Upload Data to Google Drive\n",
    "        data_file_path = '/home/kira/Desktop/SunHack/Training Dataset/Data.csv'  # Modify this path\n",
    "        file_id = upload_to_drive(data_file_path)\n",
    "        print(\"Data uploaded to Google Drive. File ID:\", file_id)\n",
    "\n",
    "        # Step 4: Data Visualization\n",
    "        visualize_data(combined_data)\n",
    "    \n",
    "    except Exception as e:\n",
    "        print(\"An error occurred:\", e)"
   ]
  }
 ],
 "metadata": {
  "kernelspec": {
   "display_name": "Python 3",
   "language": "python",
   "name": "python3"
  },
  "language_info": {
   "codemirror_mode": {
    "name": "ipython",
    "version": 3
   },
   "file_extension": ".py",
   "mimetype": "text/x-python",
   "name": "python",
   "nbconvert_exporter": "python",
   "pygments_lexer": "ipython3",
   "version": "3.11.8"
  }
 },
 "nbformat": 4,
 "nbformat_minor": 2
}
